{
 "cells": [
  {
   "cell_type": "code",
   "execution_count": 11,
   "metadata": {},
   "outputs": [],
   "source": [
    "from os import path\n",
    "from tabulate import tabulate\n",
    "from process import *"
   ]
  },
  {
   "cell_type": "code",
   "execution_count": 34,
   "metadata": {},
   "outputs": [],
   "source": [
    "# Set up dirs/filenames\n",
    "results_dir = 'perftest/results'\n",
    "num_hosts = '20'\n",
    "num_tests = 6\n",
    "hosts = [20, 30, 40, 50]\n",
    "hosts_dirs = [results_dir + '/results_{}hosts_0{}'.format(num_hosts, str(i)) for i in range(1, num_tests+1)]\n",
    "\n",
    "protocols = ['dsp', 'ecmp', 'ksp']\n",
    "exps = ['eight', 'single']\n",
    "filenames = [['{0}_{1}.txt'.format(p, e) for p in protocols] for e in exps]"
   ]
  },
  {
   "cell_type": "code",
   "execution_count": 19,
   "metadata": {},
   "outputs": [
    {
     "name": "stdout",
     "output_type": "stream",
     "text": [
      "\n",
      "10 Client/Server Flows, 8 Parallel Connections:\n",
      "                       Average Transfer (Mbytes)    Average Throughput (Mbits/sec)    Average RTT (us)\n",
      "-------------------  ---------------------------  --------------------------------  ------------------\n",
      "8-Way ECMP                                 49.56                             39.17              248056\n",
      "8-Shorest Paths                            49.56                             39.17              248056\n",
      "Diverse Short Paths                        49.56                             39.17              248056\n"
     ]
    }
   ],
   "source": [
    "results = []\n",
    "ecmp_results = read_file('perftest/results/results_20hosts_01/ecmp_eight.txt')\n",
    "results.append(ecmp_results)\n",
    "\n",
    "ksp_results = read_file('perftest/results/results_20hosts_01/ecmp_eight.txt')\n",
    "results.append(ksp_results)\n",
    "\n",
    "dsp_results = read_file('perftest/results/results_20hosts_01/ecmp_eight.txt')\n",
    "results.append(dsp_results)\n",
    "\n",
    "print(\"\\n10 Client/Server Flows, 8 Parallel Connections:\")\n",
    "results_table(results)"
   ]
  },
  {
   "cell_type": "code",
   "execution_count": 21,
   "metadata": {},
   "outputs": [
    {
     "data": {
      "text/plain": [
       "[49.56, 39.17, 248056.0375]"
      ]
     },
     "execution_count": 21,
     "metadata": {},
     "output_type": "execute_result"
    }
   ],
   "source": [
    "dsp_results = read_file('perftest/results/results_20hosts_01/ecmp_eight.txt')\n",
    "dsp_results"
   ]
  },
  {
   "cell_type": "code",
   "execution_count": null,
   "metadata": {},
   "outputs": [],
   "source": [
    "def get_tpt_vs_hosts(protocol, exp):\n",
    "    pass"
   ]
  },
  {
   "cell_type": "code",
   "execution_count": null,
   "metadata": {},
   "outputs": [],
   "source": [
    "def get_latency_vs_hosts(protocol, exp):\n",
    "    pass"
   ]
  },
  {
   "cell_type": "markdown",
   "metadata": {},
   "source": [
    "# Data Visualizations"
   ]
  },
  {
   "cell_type": "code",
   "execution_count": 25,
   "metadata": {},
   "outputs": [],
   "source": [
    "import numpy as np\n",
    "import matplotlib.pyplot as plt"
   ]
  },
  {
   "cell_type": "code",
   "execution_count": 75,
   "metadata": {},
   "outputs": [],
   "source": [
    "def plot_metric_vs_hosts(ecmp_data, ksp_data, dsp_data, metric):\n",
    "    fig = plt.figure()\n",
    "    ax = plt.subplot(111)\n",
    "    ax.plot(hosts, ecmp_data, label='ECMP')\n",
    "    ax.plot(hosts, ksp_data, label='KSP')\n",
    "    ax.plot(hosts, dsp_data, label='DSP')\n",
    "    plt.title('{} vs number of hosts'.format(metric))\n",
    "    ax.legend()\n",
    "\n",
    "    t_min, t_max = 0, np.max([ecmp_data, ksp_data, dsp_data])\n",
    "    # plt.axis((hosts[0], hosts[-1], 0, t_max))\n",
    "    plt.xticks(hosts)\n",
    "    # plt.yticks(np.arange(t_min, t_max+1, 1))\n",
    "\n",
    "    plt.show()"
   ]
  },
  {
   "cell_type": "markdown",
   "metadata": {},
   "source": [
    "## Throughput"
   ]
  },
  {
   "cell_type": "code",
   "execution_count": 78,
   "metadata": {},
   "outputs": [],
   "source": [
    "ecmp_data = [i*10 for i in range(len(hosts))]\n",
    "ksp_data = [i*15 for i in range(len(hosts))]\n",
    "dsp_data = [i*20 for i in range(len(hosts))]"
   ]
  },
  {
   "cell_type": "code",
   "execution_count": 79,
   "metadata": {},
   "outputs": [
    {
     "data": {
      "image/png": "[encoded data removed]",
      "text/plain": [
       "<Figure size 432x288 with 1 Axes>"
      ]
     },
     "metadata": {
      "needs_background": "light"
     },
     "output_type": "display_data"
    }
   ],
   "source": [
    "plot_metric_vs_hosts(ecmp_data, ksp_data, dsp_data, 'Throughput')"
   ]
  },
  {
   "cell_type": "markdown",
   "metadata": {},
   "source": [
    "## Latency"
   ]
  },
  {
   "cell_type": "code",
   "execution_count": null,
   "metadata": {},
   "outputs": [],
   "source": []
  }
 ],
 "metadata": {
  "kernelspec": {
   "display_name": "cloud-venv",
   "language": "python",
   "name": "cloud-venv"
  },
  "language_info": {
   "codemirror_mode": {
    "name": "ipython",
    "version": 3
   },
   "file_extension": ".py",
   "mimetype": "text/x-python",
   "name": "python",
   "nbconvert_exporter": "python",
   "pygments_lexer": "ipython3",
   "version": "3.7.5"
  }
 },
 "nbformat": 4,
 "nbformat_minor": 2
}
